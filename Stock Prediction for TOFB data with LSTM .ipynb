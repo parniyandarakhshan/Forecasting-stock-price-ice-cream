{
 "cells": [
  {
   "cell_type": "code",
   "execution_count": 1,
   "metadata": {},
   "outputs": [],
   "source": [
    "import numpy as np\n",
    "import pandas as pd\n",
    "import matplotlib.pyplot as plt\n",
    "from sklearn.preprocessing import MinMaxScaler\n",
    "import os"
   ]
  },
  {
   "cell_type": "code",
   "execution_count": 2,
   "metadata": {},
   "outputs": [],
   "source": [
    "#pandas_datareader to get data directly from Yahoo finance\n",
    "\n",
    "from pandas_datareader import data as pdr\n",
    "\n",
    "# download dataframe using pandas_datareader\n",
    "df = pdr.get_data_yahoo(\"TOFB\", start=\"2016-01-01\")"
   ]
  },
  {
   "cell_type": "code",
   "execution_count": 3,
   "metadata": {},
   "outputs": [
    {
     "data": {
      "text/html": [
       "<div>\n",
       "<style scoped>\n",
       "    .dataframe tbody tr th:only-of-type {\n",
       "        vertical-align: middle;\n",
       "    }\n",
       "\n",
       "    .dataframe tbody tr th {\n",
       "        vertical-align: top;\n",
       "    }\n",
       "\n",
       "    .dataframe thead th {\n",
       "        text-align: right;\n",
       "    }\n",
       "</style>\n",
       "<table border=\"1\" class=\"dataframe\">\n",
       "  <thead>\n",
       "    <tr style=\"text-align: right;\">\n",
       "      <th></th>\n",
       "      <th>High</th>\n",
       "      <th>Low</th>\n",
       "      <th>Open</th>\n",
       "      <th>Close</th>\n",
       "      <th>Volume</th>\n",
       "      <th>Adj Close</th>\n",
       "    </tr>\n",
       "    <tr>\n",
       "      <th>Date</th>\n",
       "      <th></th>\n",
       "      <th></th>\n",
       "      <th></th>\n",
       "      <th></th>\n",
       "      <th></th>\n",
       "      <th></th>\n",
       "    </tr>\n",
       "  </thead>\n",
       "  <tbody>\n",
       "    <tr>\n",
       "      <th>2016-01-04</th>\n",
       "      <td>4.17</td>\n",
       "      <td>4.17</td>\n",
       "      <td>4.17</td>\n",
       "      <td>4.17</td>\n",
       "      <td>300</td>\n",
       "      <td>4.17</td>\n",
       "    </tr>\n",
       "    <tr>\n",
       "      <th>2016-01-05</th>\n",
       "      <td>4.01</td>\n",
       "      <td>4.01</td>\n",
       "      <td>4.01</td>\n",
       "      <td>4.01</td>\n",
       "      <td>300</td>\n",
       "      <td>4.01</td>\n",
       "    </tr>\n",
       "    <tr>\n",
       "      <th>2016-01-06</th>\n",
       "      <td>4.01</td>\n",
       "      <td>4.01</td>\n",
       "      <td>4.01</td>\n",
       "      <td>4.01</td>\n",
       "      <td>0</td>\n",
       "      <td>4.01</td>\n",
       "    </tr>\n",
       "    <tr>\n",
       "      <th>2016-01-07</th>\n",
       "      <td>4.03</td>\n",
       "      <td>3.94</td>\n",
       "      <td>4.00</td>\n",
       "      <td>3.98</td>\n",
       "      <td>3600</td>\n",
       "      <td>3.98</td>\n",
       "    </tr>\n",
       "    <tr>\n",
       "      <th>2016-01-08</th>\n",
       "      <td>4.04</td>\n",
       "      <td>3.95</td>\n",
       "      <td>3.95</td>\n",
       "      <td>4.04</td>\n",
       "      <td>1500</td>\n",
       "      <td>4.04</td>\n",
       "    </tr>\n",
       "  </tbody>\n",
       "</table>\n",
       "</div>"
      ],
      "text/plain": [
       "            High   Low  Open  Close  Volume  Adj Close\n",
       "Date                                                  \n",
       "2016-01-04  4.17  4.17  4.17   4.17     300       4.17\n",
       "2016-01-05  4.01  4.01  4.01   4.01     300       4.01\n",
       "2016-01-06  4.01  4.01  4.01   4.01       0       4.01\n",
       "2016-01-07  4.03  3.94  4.00   3.98    3600       3.98\n",
       "2016-01-08  4.04  3.95  3.95   4.04    1500       4.04"
      ]
     },
     "execution_count": 3,
     "metadata": {},
     "output_type": "execute_result"
    }
   ],
   "source": [
    "df.head()"
   ]
  },
  {
   "cell_type": "code",
   "execution_count": 4,
   "metadata": {},
   "outputs": [
    {
     "data": {
      "text/html": [
       "<div>\n",
       "<style scoped>\n",
       "    .dataframe tbody tr th:only-of-type {\n",
       "        vertical-align: middle;\n",
       "    }\n",
       "\n",
       "    .dataframe tbody tr th {\n",
       "        vertical-align: top;\n",
       "    }\n",
       "\n",
       "    .dataframe thead th {\n",
       "        text-align: right;\n",
       "    }\n",
       "</style>\n",
       "<table border=\"1\" class=\"dataframe\">\n",
       "  <thead>\n",
       "    <tr style=\"text-align: right;\">\n",
       "      <th></th>\n",
       "      <th>High</th>\n",
       "      <th>Low</th>\n",
       "      <th>Open</th>\n",
       "      <th>Close</th>\n",
       "      <th>Volume</th>\n",
       "      <th>Adj Close</th>\n",
       "    </tr>\n",
       "    <tr>\n",
       "      <th>Date</th>\n",
       "      <th></th>\n",
       "      <th></th>\n",
       "      <th></th>\n",
       "      <th></th>\n",
       "      <th></th>\n",
       "      <th></th>\n",
       "    </tr>\n",
       "  </thead>\n",
       "  <tbody>\n",
       "    <tr>\n",
       "      <th>2021-04-09</th>\n",
       "      <td>2.96</td>\n",
       "      <td>2.96</td>\n",
       "      <td>2.96</td>\n",
       "      <td>2.96</td>\n",
       "      <td>500</td>\n",
       "      <td>2.96</td>\n",
       "    </tr>\n",
       "    <tr>\n",
       "      <th>2021-04-12</th>\n",
       "      <td>2.96</td>\n",
       "      <td>2.96</td>\n",
       "      <td>2.96</td>\n",
       "      <td>2.96</td>\n",
       "      <td>0</td>\n",
       "      <td>2.96</td>\n",
       "    </tr>\n",
       "    <tr>\n",
       "      <th>2021-04-13</th>\n",
       "      <td>2.90</td>\n",
       "      <td>2.85</td>\n",
       "      <td>2.90</td>\n",
       "      <td>2.85</td>\n",
       "      <td>1500</td>\n",
       "      <td>2.85</td>\n",
       "    </tr>\n",
       "    <tr>\n",
       "      <th>2021-04-14</th>\n",
       "      <td>2.99</td>\n",
       "      <td>2.81</td>\n",
       "      <td>2.87</td>\n",
       "      <td>2.81</td>\n",
       "      <td>1700</td>\n",
       "      <td>2.81</td>\n",
       "    </tr>\n",
       "    <tr>\n",
       "      <th>2021-04-15</th>\n",
       "      <td>2.90</td>\n",
       "      <td>2.75</td>\n",
       "      <td>2.81</td>\n",
       "      <td>2.75</td>\n",
       "      <td>3583</td>\n",
       "      <td>2.75</td>\n",
       "    </tr>\n",
       "  </tbody>\n",
       "</table>\n",
       "</div>"
      ],
      "text/plain": [
       "            High   Low  Open  Close  Volume  Adj Close\n",
       "Date                                                  \n",
       "2021-04-09  2.96  2.96  2.96   2.96     500       2.96\n",
       "2021-04-12  2.96  2.96  2.96   2.96       0       2.96\n",
       "2021-04-13  2.90  2.85  2.90   2.85    1500       2.85\n",
       "2021-04-14  2.99  2.81  2.87   2.81    1700       2.81\n",
       "2021-04-15  2.90  2.75  2.81   2.75    3583       2.75"
      ]
     },
     "execution_count": 4,
     "metadata": {},
     "output_type": "execute_result"
    }
   ],
   "source": [
    "df.tail()"
   ]
  },
  {
   "cell_type": "code",
   "execution_count": 5,
   "metadata": {},
   "outputs": [
    {
     "name": "stdout",
     "output_type": "stream",
     "text": [
      "(1330, 1)\n"
     ]
    },
    {
     "data": {
      "text/plain": [
       "array([[4.17000008],\n",
       "       [4.01000023],\n",
       "       [4.01000023],\n",
       "       [4.        ],\n",
       "       [3.95000005]])"
      ]
     },
     "execution_count": 5,
     "metadata": {},
     "output_type": "execute_result"
    }
   ],
   "source": [
    "#use open stock for prediction\n",
    "\n",
    "# The reshape() function is used to give a new shape to an array without changing its data. \n",
    "#Array to be reshaped. The new shape should be compatible with the original shape. \n",
    "#If an integer, then the result will be a 1-D array of that length.\n",
    "\n",
    "df = df['Open'].values\n",
    "df = df.reshape(-1, 1)\n",
    "print(df.shape)\n",
    "df[:5]"
   ]
  },
  {
   "cell_type": "code",
   "execution_count": 6,
   "metadata": {
    "scrolled": true
   },
   "outputs": [],
   "source": [
    "# Divide the data set into train and test\n",
    "\n",
    "dataset_train = np.array(df[:int(df.shape[0]*0.8)])\n",
    "dataset_test = np.array(df[int(df.shape[0]*0.8)-50:])"
   ]
  },
  {
   "cell_type": "code",
   "execution_count": 7,
   "metadata": {},
   "outputs": [
    {
     "data": {
      "text/plain": [
       "(1064, 1)"
      ]
     },
     "execution_count": 7,
     "metadata": {},
     "output_type": "execute_result"
    }
   ],
   "source": [
    "dataset_train.shape"
   ]
  },
  {
   "cell_type": "code",
   "execution_count": 8,
   "metadata": {},
   "outputs": [
    {
     "data": {
      "text/plain": [
       "(316, 1)"
      ]
     },
     "execution_count": 8,
     "metadata": {},
     "output_type": "execute_result"
    }
   ],
   "source": [
    "dataset_test.shape"
   ]
  },
  {
   "cell_type": "code",
   "execution_count": 9,
   "metadata": {},
   "outputs": [
    {
     "data": {
      "text/plain": [
       "array([[1.        ],\n",
       "       [0.94952686],\n",
       "       [0.94952686],\n",
       "       [0.94637222],\n",
       "       [0.93059936]])"
      ]
     },
     "execution_count": 9,
     "metadata": {},
     "output_type": "execute_result"
    }
   ],
   "source": [
    "#This estimator scales and translates each feature individually such that it is in the given range \n",
    "# on the training set, e.g. between zero and one.\\\n",
    "\n",
    "#LSTMs are sensitive to the scale of the input data, specifically when the sigmoid (default) \n",
    "#or tanh activation functions are used. \n",
    " \n",
    "# MinMaxScaler preprocessing class from the scikit-learn library.\n",
    "\n",
    "scaler = MinMaxScaler(feature_range=(0,1))\n",
    "dataset_train = scaler.fit_transform(dataset_train)\n",
    "dataset_train[:5]"
   ]
  },
  {
   "cell_type": "code",
   "execution_count": 10,
   "metadata": {},
   "outputs": [
    {
     "data": {
      "text/plain": [
       "array([[0.27129337],\n",
       "       [0.23974763],\n",
       "       [0.2681388 ],\n",
       "       [0.24921134],\n",
       "       [0.2429022 ]])"
      ]
     },
     "execution_count": 10,
     "metadata": {},
     "output_type": "execute_result"
    }
   ],
   "source": [
    "dataset_test = scaler.transform(dataset_test)\n",
    "dataset_test[:5]"
   ]
  },
  {
   "cell_type": "code",
   "execution_count": 11,
   "metadata": {},
   "outputs": [],
   "source": [
    "#Create one continuous series Create the data to get 50 timestamps from the current instance:\n",
    "\n",
    "def create_dataset(df):\n",
    "    x = []\n",
    "    y = []\n",
    "    for i in range(50, df.shape[0]):\n",
    "        x.append(df[i-50:i, 0])\n",
    "        y.append(df[i, 0])\n",
    "    x = np.array(x)\n",
    "    y = np.array(y)\n",
    "    return x,y"
   ]
  },
  {
   "cell_type": "code",
   "execution_count": 12,
   "metadata": {},
   "outputs": [
    {
     "data": {
      "text/plain": [
       "array([[1.        , 0.94952686, 0.94952686, 0.94637222, 0.93059936,\n",
       "        0.9589905 , 0.85173501, 0.78864351, 0.89905358, 0.84542587,\n",
       "        0.85488958, 0.89274443, 0.74132487, 0.76971609, 0.72870659,\n",
       "        0.72870659, 0.72870659, 0.72870659, 0.74132487, 0.74132487,\n",
       "        0.74132487, 0.74132487, 0.58359617, 0.48264982, 0.51735018,\n",
       "        0.48580439, 0.47949525, 0.54258675, 0.52996846, 0.50473182,\n",
       "        0.47949525, 0.42586747, 0.40378547, 0.40378547, 0.50473182,\n",
       "        0.46687697, 0.46687697, 0.56782332, 0.62460567, 0.66246052,\n",
       "        0.58359617, 0.58359617, 0.57728703, 0.83596216, 0.90851736,\n",
       "        0.88328072, 0.79179809, 0.82965301, 0.63722395, 0.63091481]])"
      ]
     },
     "execution_count": 12,
     "metadata": {},
     "output_type": "execute_result"
    }
   ],
   "source": [
    "x_train, y_train = create_dataset(dataset_train)\n",
    "x_train[:1]"
   ]
  },
  {
   "cell_type": "code",
   "execution_count": 13,
   "metadata": {},
   "outputs": [
    {
     "data": {
      "text/plain": [
       "array([[0.27129337, 0.23974763, 0.2681388 , 0.24921134, 0.2429022 ,\n",
       "        0.25552048, 0.28075709, 0.28075709, 0.25236591, 0.27444794,\n",
       "        0.27444794, 0.25236591, 0.25552048, 0.23974763, 0.24605677,\n",
       "        0.23974763, 0.25236591, 0.25867509, 0.25552048, 0.21766563,\n",
       "        0.28075709, 0.25236591, 0.20189274, 0.16719242, 0.22712934,\n",
       "        0.17981074, 0.18927445, 0.18927445, 0.18296531, 0.17665613,\n",
       "        0.16088327, 0.16088327, 0.16088327, 0.17665613, 0.17350156,\n",
       "        0.16403784, 0.15141956, 0.1577287 , 0.18296531, 0.14195585,\n",
       "        0.07886435, 0.15141956, 0.1104101 , 0.08517349, 0.0630915 ,\n",
       "        0.05678232, 0.        , 0.1577287 , 0.08201892, 0.11356467]])"
      ]
     },
     "execution_count": 13,
     "metadata": {},
     "output_type": "execute_result"
    }
   ],
   "source": [
    "x_test, y_test = create_dataset(dataset_test)\n",
    "x_test[:1]"
   ]
  },
  {
   "cell_type": "code",
   "execution_count": 14,
   "metadata": {},
   "outputs": [],
   "source": [
    "# Reshape features for LSTM Layer\n",
    "\n",
    "# NumPy Array manipulation: reshape() function\n",
    "#The reshape() function is used to give a new shape to an array without changing its data. \n",
    "#Array to be reshaped. The new shape should be compatible with the original shape. \n",
    "\n",
    "\n",
    "x_train = np.reshape(x_train, (x_train.shape[0], x_train.shape[1], 1))\n",
    "x_test = np.reshape(x_test, (x_test.shape[0], x_test.shape[1], 1))"
   ]
  },
  {
   "cell_type": "code",
   "execution_count": 15,
   "metadata": {},
   "outputs": [
    {
     "name": "stderr",
     "output_type": "stream",
     "text": [
      "Using TensorFlow backend.\n"
     ]
    }
   ],
   "source": [
    "#Import all deep learing learning library to create LSTM model\n",
    "import keras\n",
    "from tensorflow.keras.models import Sequential, load_model\n",
    "from tensorflow.keras.layers import Dense, Dropout\n",
    "from tensorflow.python.keras.layers.recurrent import LSTM"
   ]
  },
  {
   "cell_type": "code",
   "execution_count": 16,
   "metadata": {},
   "outputs": [],
   "source": [
    "#The network has a visible layer with 1 input, a hidden layer with 4 LSTM blocks or neurons, \n",
    "#and an output layer that makes a single value prediction. \n",
    "#The default sigmoid activation function is used for the LSTM blocks. \n",
    "#The network is trained for 15 epochs and a batch size of 32 is used.\n",
    "\n",
    "\n",
    "model = Sequential()\n",
    "#We add the LSTM layer with the following arguments:\n",
    "#100 units which is the dimensionality of the output space\n",
    "#return_sequences=True which determines whether to return the last output in the output sequence,\n",
    "#or the full sequence\n",
    "#input_shape as the shape of our training set.\n",
    "model.add(LSTM(units=100, return_sequences=True, input_shape=(x_train.shape[1], 1)))\n",
    "\n",
    "#We add the LSTM layer and later add a few Dropout layers to prevent overfitting. \n",
    "\n",
    "model.add(Dropout(0.2))\n",
    "model.add(LSTM(units=100, return_sequences=True))\n",
    "model.add(Dropout(0.2))\n",
    "model.add(LSTM(units=100, return_sequences=True))\n",
    "model.add(Dropout(0.2))\n",
    "model.add(LSTM(units=100))\n",
    "model.add(Dropout(0.2))\n"
   ]
  },
  {
   "cell_type": "code",
   "execution_count": 17,
   "metadata": {},
   "outputs": [],
   "source": [
    "model.add(Dense(units=1))"
   ]
  },
  {
   "cell_type": "code",
   "execution_count": 18,
   "metadata": {},
   "outputs": [],
   "source": [
    "# epochs — This is the number of iterations (forward and back propagation) our model needs to make.\n",
    "\n",
    "model.compile(loss='mean_squared_error', optimizer='adam')"
   ]
  },
  {
   "cell_type": "code",
   "execution_count": 19,
   "metadata": {},
   "outputs": [
    {
     "name": "stdout",
     "output_type": "stream",
     "text": [
      "Train on 1014 samples\n",
      "Epoch 1/20\n",
      "1014/1014 [==============================] - 11s 11ms/sample - loss: 0.0234\n",
      "Epoch 2/20\n",
      "1014/1014 [==============================] - 6s 6ms/sample - loss: 0.0073\n",
      "Epoch 3/20\n",
      "1014/1014 [==============================] - 6s 6ms/sample - loss: 0.0042\n",
      "Epoch 4/20\n",
      "1014/1014 [==============================] - 7s 7ms/sample - loss: 0.0041\n",
      "Epoch 5/20\n",
      "1014/1014 [==============================] - 7s 7ms/sample - loss: 0.0037\n",
      "Epoch 6/20\n",
      "1014/1014 [==============================] - 9s 9ms/sample - loss: 0.0036\n",
      "Epoch 7/20\n",
      "1014/1014 [==============================] - 8s 8ms/sample - loss: 0.0037\n",
      "Epoch 8/20\n",
      "1014/1014 [==============================] - 8s 8ms/sample - loss: 0.0033\n",
      "Epoch 9/20\n",
      "1014/1014 [==============================] - 8s 8ms/sample - loss: 0.0034\n",
      "Epoch 10/20\n",
      "1014/1014 [==============================] - 8s 8ms/sample - loss: 0.0032\n",
      "Epoch 11/20\n",
      "1014/1014 [==============================] - 8s 8ms/sample - loss: 0.0034\n",
      "Epoch 12/20\n",
      "1014/1014 [==============================] - 8s 8ms/sample - loss: 0.0031\n",
      "Epoch 13/20\n",
      "1014/1014 [==============================] - 8s 8ms/sample - loss: 0.0032\n",
      "Epoch 14/20\n",
      "1014/1014 [==============================] - 8s 8ms/sample - loss: 0.0030\n",
      "Epoch 15/20\n",
      "1014/1014 [==============================] - 8s 7ms/sample - loss: 0.0028\n",
      "Epoch 16/20\n",
      "1014/1014 [==============================] - 8s 8ms/sample - loss: 0.0034\n",
      "Epoch 17/20\n",
      "1014/1014 [==============================] - 8s 8ms/sample - loss: 0.0027\n",
      "Epoch 18/20\n",
      "1014/1014 [==============================] - 8s 8ms/sample - loss: 0.0030\n",
      "Epoch 19/20\n",
      "1014/1014 [==============================] - 8s 8ms/sample - loss: 0.0028\n",
      "Epoch 20/20\n",
      "1014/1014 [==============================] - 9s 8ms/sample - loss: 0.0026\n"
     ]
    },
    {
     "data": {
      "text/plain": [
       "<tensorflow.python.keras.callbacks.History at 0x2c601069348>"
      ]
     },
     "execution_count": 19,
     "metadata": {},
     "output_type": "execute_result"
    }
   ],
   "source": [
    "#Fit the model\n",
    "\n",
    "model.fit(x_train, y_train, epochs=20, batch_size=32)"
   ]
  },
  {
   "cell_type": "code",
   "execution_count": 20,
   "metadata": {},
   "outputs": [
    {
     "data": {
      "text/plain": [
       "<matplotlib.legend.Legend at 0x2c616480e88>"
      ]
     },
     "execution_count": 20,
     "metadata": {},
     "output_type": "execute_result"
    },
    {
     "data": {
      "image/png": "[encoded data removed]",
      "text/plain": [
       "<Figure size 576x288 with 1 Axes>"
      ]
     },
     "metadata": {
      "needs_background": "light"
     },
     "output_type": "display_data"
    }
   ],
   "source": [
    "#Data visualization \n",
    "#Load and process the test data (which is treated as the actual data here):\n",
    "\n",
    "predictions = model.predict(x_test)\n",
    "#Since we scaled our data, the predictions made by the LSTM are also scaled. \n",
    "#We need to reverse the scaled prediction back to their actual values. \n",
    "#To do so, we can use the ìnverse_transform method of the scaler object we created during training. \n",
    "\n",
    "#use inverse_transform to get back the stock prices in normal readable format.\n",
    "predictions = scaler.inverse_transform(predictions)\n",
    "\n",
    "fig, ax = plt.subplots(figsize=(8,4))\n",
    "plt.plot(df, color='red',  label=\"True Price\")\n",
    "ax.plot(range(len(y_train)+50,len(y_train)+50+len(predictions)),predictions, color='blue', label='Predicted Testing Price')\n",
    "plt.legend()"
   ]
  },
  {
   "cell_type": "code",
   "execution_count": 21,
   "metadata": {},
   "outputs": [
    {
     "data": {
      "text/plain": [
       "<matplotlib.legend.Legend at 0x2c616495288>"
      ]
     },
     "execution_count": 21,
     "metadata": {},
     "output_type": "execute_result"
    },
    {
     "data": {
      "image/png": "[encoded data removed]",
      "text/plain": [
       "<Figure size 576x288 with 1 Axes>"
      ]
     },
     "metadata": {
      "needs_background": "light"
     },
     "output_type": "display_data"
    }
   ],
   "source": [
    "#Test (unseen data) output vs. prective output visualization\n",
    "\n",
    "y_test_scaled = scaler.inverse_transform(y_test.reshape(-1, 1))\n",
    "\n",
    "fig, ax = plt.subplots(figsize=(8,4))\n",
    "ax.plot(y_test_scaled, color='red', label='True Testing Price')\n",
    "plt.plot(predictions, color='blue', label='Predicted Testing Price')\n",
    "plt.legend()"
   ]
  },
  {
   "cell_type": "code",
   "execution_count": 22,
   "metadata": {},
   "outputs": [
    {
     "name": "stdout",
     "output_type": "stream",
     "text": [
      "[2.9335408, 3.237935, 4.04034, 5.2807302, 6.7104316]\n"
     ]
    }
   ],
   "source": [
    "#Predict for next 5 days\n",
    "\n",
    "x = x_test[-1]\n",
    "num_timesteps = 5\n",
    "preds = []\n",
    "for i in range(num_timesteps):\n",
    "    data = np.expand_dims(x, axis=0)\n",
    "    prediction = model.predict(data)\n",
    "    prediction = scaler.inverse_transform(prediction)\n",
    "    preds.append(prediction[0][0])\n",
    "    x = np.delete(x, 0, axis=0) # delete first row\n",
    "    x = np.vstack([x, prediction]) # add prediction\n",
    "\n",
    "print(preds)"
   ]
  },
  {
   "cell_type": "code",
   "execution_count": null,
   "metadata": {},
   "outputs": [],
   "source": []
  }
 ],
 "metadata": {
  "kernelspec": {
   "display_name": "Python 3",
   "language": "python",
   "name": "python3"
  },
  "language_info": {
   "codemirror_mode": {
    "name": "ipython",
    "version": 3
   },
   "file_extension": ".py",
   "mimetype": "text/x-python",
   "name": "python",
   "nbconvert_exporter": "python",
   "pygments_lexer": "ipython3",
   "version": "3.7.4"
  }
 },
 "nbformat": 4,
 "nbformat_minor": 4
}
